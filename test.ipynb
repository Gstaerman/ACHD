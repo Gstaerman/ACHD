{
 "cells": [
  {
   "cell_type": "code",
   "execution_count": 8,
   "metadata": {},
   "outputs": [],
   "source": [
    "import time\n",
    "import achd as ACHD\n",
    "import numpy as np\n",
    "import matplotlib.pyplot as plt\n",
    "import matplotlib"
   ]
  },
  {
   "cell_type": "code",
   "execution_count": 3,
   "metadata": {},
   "outputs": [],
   "source": [
    "np.random.seed(42)\n",
    "m =100;n =100;tps = np.linspace(0,1,m);v = np.linspace(1,1.4,n)\n",
    "X = np.zeros((n,m))\n",
    "for i in range(n):\n",
    "    X[i] = 30 * ((1-tps) ** v[i]) * tps ** v[i]\n",
    "Z1 = np.zeros((m))\n",
    "for j in range(m):\n",
    "    if (tps[j]<0.2 or tps[j]>0.8):\n",
    "        Z1[j] = 30 * ((1-tps[j]) ** 1.2) * tps[j] ** 1.2\n",
    "    else:\n",
    "        Z1[j] = 30 * ((1-tps[j]) ** 1.2) * tps[j] ** 1.2 + np.random.normal(0,0.3,1)\n",
    "Z1[0] = 0\n",
    "Z1[m-1] = 0\n",
    "Z2 = 30 * ((1-tps) ** 1.6) * tps ** 1.6\n",
    "Z3 = np.zeros((m))\n",
    "for j in range(m):\n",
    "    Z3[j] = 30 * ((1-tps[j]) ** 1.2) * tps[j] ** 1.2 + np.sin(2*np.pi*tps[j])\n",
    "\n",
    "Z4 = np.zeros((m))\n",
    "for j in range(m):\n",
    "    Z4[j] = 30 * ((1-tps[j]) ** 1.2) * tps[j] ** 1.2\n",
    "\n",
    "for j in range(70,71):\n",
    "    Z4[j] += 2\n",
    "\n",
    "Z5 = np.zeros((m))\n",
    "for j in range(m):\n",
    "    Z5[j] = 30 * ((1-tps[j]) ** 1.2) * tps[j] ** 1.2 + 0.5*np.sin(10 * np.pi * tps[j])\n",
    "\n",
    "X = np.concatenate((X,Z1.reshape(1,-1),Z2.reshape(1,-1),\n",
    "                     Z3.reshape(1,-1), Z4.reshape(1,-1), Z5.reshape(1,-1)), axis = 0)"
   ]
  },
  {
   "cell_type": "code",
   "execution_count": 13,
   "metadata": {},
   "outputs": [
    {
     "name": "stdout",
     "output_type": "stream",
     "text": [
      "CPU times: user 3.76 s, sys: 85.2 ms, total: 3.85 s\n",
      "Wall time: 3.82 s\n"
     ]
    }
   ],
   "source": [
    "%%time \n",
    "#tps=np.linspace(0,1,10)\n",
    "ACH = ACHD.ACHD(discretization_points=tps,combi_subsample=420, J_size=2)\n",
    "ACH.fit(X)\n",
    "Score = ACH.get_training_score()"
   ]
  }
 ],
 "metadata": {
  "kernelspec": {
   "display_name": "Python 3",
   "language": "python",
   "name": "python3"
  },
  "language_info": {
   "codemirror_mode": {
    "name": "ipython",
    "version": 3
   },
   "file_extension": ".py",
   "mimetype": "text/x-python",
   "name": "python",
   "nbconvert_exporter": "python",
   "pygments_lexer": "ipython3",
   "version": "3.7.4"
  }
 },
 "nbformat": 4,
 "nbformat_minor": 2
}
